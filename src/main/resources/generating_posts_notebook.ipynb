{
 "cells": [
  {
   "cell_type": "code",
   "execution_count": 16,
   "id": "8fd325a9-c234-4d13-a146-9e3d8fc75c77",
   "metadata": {},
   "outputs": [],
   "source": [
    "import requests\n",
    "\n",
    "product2 = {\n",
    "    \"price\": 120.50,\n",
    "    \"name\": \"Ocean Breeze Knitted Blanket\",\n",
    "    \"post\": 0,\n",
    "    \"orders\": [],\n",
    "    \"carts\": []\n",
    "}\n",
    "\n",
    "post2 = {\n",
    "    \"name\": product2['name'],\n",
    "    \"views\": 0,\n",
    "    \"description\": \"The Ocean Breeze Knitted Blanket features a soft, airy design, inspired by the calming hues of the ocean. Perfect for cozying up on chilly nights or adding texture to your decor.\",\n",
    "    \"product\": 0,\n",
    "    \"user\": 0,\n",
    "    \"likedUsers\": [],\n",
    "    \"tags\": [],\n",
    "    \"images\": [],\n",
    "    \"reviews\": []\n",
    "}\n",
    "\n",
    "product3 = {\n",
    "    \"id\": 0,\n",
    "    \"price\": 89.99,\n",
    "    \"name\": \"Sunset Clay Mug Set\",\n",
    "    \"post\": 0,\n",
    "    \"orders\": [],\n",
    "    \"carts\": []\n",
    "}\n",
    "\n",
    "post3 = {\n",
    "    \"id\": 0,\n",
    "    \"name\": product3['name'],\n",
    "    \"views\": 0,\n",
    "    \"description\": \"A set of handcrafted clay mugs inspired by the vibrant hues of a sunset. These mugs are perfect for serving warm beverages while adding a touch of artistry to your kitchen.\",\n",
    "    \"product\": 0,\n",
    "    \"user\": 0,\n",
    "    \"likedUsers\": [],\n",
    "    \"tags\": [],\n",
    "    \"images\": [],\n",
    "    \"reviews\": []\n",
    "}\n",
    "\n",
    "product4 = {\n",
    "    \"id\": 0,\n",
    "    \"price\": 75.25,\n",
    "    \"name\": \"Handwoven Macrame Wall Hanging\",\n",
    "    \"post\": 0,\n",
    "    \"orders\": [],\n",
    "    \"carts\": []\n",
    "}\n",
    "\n",
    "post4 = {\n",
    "    \"id\": 0,\n",
    "    \"name\": product4['name'],\n",
    "    \"views\": 0,\n",
    "    \"description\": \"This handcrafted macrame wall hanging adds a bohemian touch to any space. Made from natural cotton fibers, it's a perfect addition to your living room or bedroom decor.\",\n",
    "    \"product\": 0,\n",
    "    \"user\": 0,\n",
    "    \"likedUsers\": [],\n",
    "    \"tags\": [],\n",
    "    \"images\": [],\n",
    "    \"reviews\": []\n",
    "}\n",
    "\n",
    "product5 = {\n",
    "    \"id\": 0,\n",
    "    \"price\": 45.00,\n",
    "    \"name\": \"Rustic Clay Candle Holders\",\n",
    "    \"post\": 0,\n",
    "    \"orders\": [],\n",
    "    \"carts\": []\n",
    "}\n",
    "\n",
    "post5 = {\n",
    "    \"id\": 0,\n",
    "    \"name\": product5['name'],\n",
    "    \"views\": 0,\n",
    "    \"description\": \"These handmade clay candle holders feature a rustic finish, perfect for adding a warm, earthy ambiance to your space. Each holder is unique and crafted with care.\",\n",
    "    \"product\": 0,\n",
    "    \"user\": 0,\n",
    "    \"likedUsers\": [],\n",
    "    \"tags\": [],\n",
    "    \"images\": [],\n",
    "    \"reviews\": []\n",
    "}\n",
    "\n",
    "product6 = {\n",
    "    \"id\": 0,\n",
    "    \"price\": 135.75,\n",
    "    \"name\": \"Vintage-Inspired Hand-Painted Vase\",\n",
    "    \"post\": 0,\n",
    "    \"orders\": [],\n",
    "    \"carts\": []\n",
    "}\n",
    "\n",
    "post6 = {\n",
    "    \"id\": 0,\n",
    "    \"name\": product6['name'],\n",
    "    \"views\": 0,\n",
    "    \"description\": \"A vintage-inspired vase, hand-painted with intricate floral patterns. This vase is perfect as a centerpiece or to showcase a fresh bouquet of flowers.\",\n",
    "    \"product\": 0,\n",
    "    \"user\": 0,\n",
    "    \"likedUsers\": [],\n",
    "    \"tags\": [],\n",
    "    \"images\": [],\n",
    "    \"reviews\": []\n",
    "}\n",
    "\n",
    "product7 = {\n",
    "    \"id\": 0,\n",
    "    \"price\": 60.99,\n",
    "    \"name\": \"Earthy Knitted Cushion Cover\",\n",
    "    \"post\": 0,\n",
    "    \"orders\": [],\n",
    "    \"carts\": []\n",
    "}\n",
    "\n",
    "post7 = {\n",
    "    \"id\": 0,\n",
    "    \"name\": product7['name'],\n",
    "    \"views\": 0,\n",
    "    \"description\": \"A hand-knitted cushion cover in earthy tones, adding a cozy and natural touch to any seating area. Made from soft, eco-friendly yarn, it's both stylish and comfortable.\",\n",
    "    \"product\": 0,\n",
    "    \"user\": 0,\n",
    "    \"likedUsers\": [],\n",
    "    \"tags\": [],\n",
    "    \"images\": [],\n",
    "    \"reviews\": []\n",
    "}\n",
    "\n",
    "product8 = {\n",
    "    \"id\": 0,\n",
    "    \"price\": 180.00,\n",
    "    \"name\": \"Handcrafted Wooden Jewelry Box\",\n",
    "    \"post\": 0,\n",
    "    \"orders\": [],\n",
    "    \"carts\": []\n",
    "}\n",
    "\n",
    "post8 = {\n",
    "    \"id\": 0,\n",
    "    \"name\": product8['name'],\n",
    "    \"views\": 0,\n",
    "    \"description\": \"This handcrafted wooden jewelry box is both functional and elegant. With intricate carvings, it’s a perfect place to store your treasured accessories.\",\n",
    "    \"product\": 0,\n",
    "    \"user\": 0,\n",
    "    \"likedUsers\": [],\n",
    "    \"tags\": [],\n",
    "    \"images\": [],\n",
    "    \"reviews\": []\n",
    "}\n",
    "\n",
    "product9 = {\n",
    "    \"id\": 0,\n",
    "    \"price\": 55.50,\n",
    "    \"name\": \"Delicate Lace Doily Set\",\n",
    "    \"post\": 0,\n",
    "    \"orders\": [],\n",
    "    \"carts\": []\n",
    "}\n",
    "\n",
    "post9 = {\n",
    "    \"id\": 0,\n",
    "    \"name\": product9['name'],\n",
    "    \"views\": 0,\n",
    "    \"description\": \"A set of delicate, hand-crocheted lace doilies, perfect for decorating tables, shelves, or adding a vintage charm to any room. Made with fine cotton threads.\",\n",
    "    \"product\": 0,\n",
    "    \"user\": 0,\n",
    "    \"likedUsers\": [],\n",
    "    \"tags\": [],\n",
    "    \"images\": [],\n",
    "    \"reviews\": []\n",
    "}\n",
    "\n",
    "product10 = {\n",
    "    \"id\": 0,\n",
    "    \"price\": 250.00,\n",
    "    \"name\": \"Abstract Hand-Painted Canvas\",\n",
    "    \"post\": 0,\n",
    "    \"orders\": [],\n",
    "    \"carts\": []\n",
    "}\n",
    "\n",
    "post10 = {\n",
    "    \"id\": 0,\n",
    "    \"name\": product10['name'],\n",
    "    \"views\": 0,\n",
    "    \"description\": \"This abstract hand-painted canvas brings modern art into your home. The vibrant colors and bold strokes make it a statement piece in any living space.\",\n",
    "    \"product\": 0,\n",
    "    \"user\": 0,\n",
    "    \"likedUsers\": [],\n",
    "    \"tags\": [],\n",
    "    \"images\": [],\n",
    "    \"reviews\": []\n",
    "}\n",
    "\n",
    "product11 = {\n",
    "    \"id\": 0,\n",
    "    \"price\": 70.99,\n",
    "    \"name\": \"Handwoven Straw Basket\",\n",
    "    \"post\": 0,\n",
    "    \"orders\": [],\n",
    "    \"carts\": []\n",
    "}\n",
    "\n",
    "post11 = {\n",
    "    \"id\": 0,\n",
    "    \"name\": product11['name'],\n",
    "    \"views\": 0,\n",
    "    \"description\": \"A durable handwoven straw basket that combines functionality with rustic charm. Perfect for storage or as a decorative piece in any room.\",\n",
    "    \"product\": 0,\n",
    "    \"user\": 0,\n",
    "    \"likedUsers\": [],\n",
    "    \"tags\": [],\n",
    "    \"images\": [],\n",
    "    \"reviews\": []\n",
    "}\n",
    "\n",
    "\n",
    "product1 = {\n",
    "    \"id\": 0,\n",
    "    \"price\": 000.99,\n",
    "    \"name\": \"Sunrise Clay Vase\",\n",
    "    \"post\": 0,\n",
    "    \"orders\": [],\n",
    "    \"carts\": []\n",
    "}\n",
    "\n",
    "\n",
    "post1 = {\n",
    "    \"id\": 0,\n",
    "    \"name\": product1['name'],\n",
    "    \"views\": 0,\n",
    "    \"description\": \"The Sunrise Clay Vase is a handcrafted piece with a warm, earthy tone, inspired by sunrise hues. Its elegant, minimalist design adds a natural touch to any interior decor. Ideal for flowers or as a statement piece.\",\n",
    "    \"product\": 0,\n",
    "    \"user\": 0,\n",
    "    \"likedUsers\": [],\n",
    "    \"tags\": [],\n",
    "    \"images\": [],\n",
    "    \"reviews\": []\n",
    "}\n",
    "\n"
   ]
  },
  {
   "cell_type": "code",
   "execution_count": null,
   "id": "28bfc094-018f-4284-b174-85f5abddff9a",
   "metadata": {},
   "outputs": [],
   "source": [
    "posts = [\n",
    "    (product1, post1),\n",
    "    # (product2, post2),\n",
    "    # (product3, post3),\n",
    "    # (product4, post4),\n",
    "    # (product5, post5),\n",
    "    # (product6, post6),\n",
    "    # (product7, post7),\n",
    "    # (product8, post8),\n",
    "    # (product9, post9),\n",
    "    # (product10, post10),\n",
    "    # (product11, post11)\n",
    "]\n",
    "\n",
    "for product, post in posts:\n",
    "\n",
    "    image = {\n",
    "        \"id\": 0,\n",
    "        \"name\": None,\n",
    "        \"extension\": \"jpg\",\n",
    "        \"postId\": 0\n",
    "    }\n",
    "\n",
    "    response_product = requests.post('http://localhost:8080/product', json=product)\n",
    "\n",
    "    product_new = response_product.json()\n",
    "\n",
    "    response_post = requests.post('http://localhost:8080/post', json=post)\n",
    "\n",
    "    print(response_post)\n",
    "    print(response_product)\n",
    "\n",
    "    post_new = response_post.json()\n",
    "\n",
    "    files = {\n",
    "        'file': ('{}.jpg'.format(image['name']), open('images/{}.jpg'.format(post['name']), 'rb'), 'image/jpeg')\n",
    "    }\n",
    "\n",
    "    image = requests.post('http://localhost:8080/image', json=image).json()\n",
    "    image = requests.post('http://localhost:8080/image/{}'.format(image['id']), files=files).json()\n",
    "\n",
    "    requests.post('http://localhost:8080/post/{}/product'.format(post['id']), params={'productId': product_new['id']})\n",
    "    requests.post('http://localhost:8080/post/{}/image'.format(post['id']), params={'imageId': image['id']})\n"
   ]
  },
  {
   "cell_type": "code",
   "execution_count": 18,
   "id": "840ce43f-69d8-4327-94f6-b49b33c7d24d",
   "metadata": {},
   "outputs": [],
   "source": [
    "product = product2\n",
    "post = post2\n",
    "\n",
    "image = {\n",
    "    \"id\": 0,\n",
    "    \"name\": None,\n",
    "    \"extension\": \"jpg\",\n",
    "    \"postId\": 0\n",
    "}"
   ]
  },
  {
   "cell_type": "code",
   "execution_count": 19,
   "id": "554bd209-0e29-422e-973f-900349d2397d",
   "metadata": {},
   "outputs": [
    {
     "name": "stdout",
     "output_type": "stream",
     "text": [
      "<Response [200]>\n"
     ]
    }
   ],
   "source": [
    "response_product = requests.post('http://localhost:8080/product', json=product)\n",
    "print(response_product)\n",
    "product_new = response_product.json()"
   ]
  },
  {
   "cell_type": "code",
   "execution_count": 20,
   "id": "97845808-490a-4415-a6ff-e164d62b6020",
   "metadata": {},
   "outputs": [
    {
     "name": "stdout",
     "output_type": "stream",
     "text": [
      "<Response [200]>\n"
     ]
    }
   ],
   "source": [
    "response_post = requests.post('http://localhost:8080/post', json=post)\n",
    "print(response_post)\n",
    "post_new = response_post.json()\n"
   ]
  },
  {
   "cell_type": "code",
   "execution_count": 21,
   "id": "6a733138-0d7e-4edb-ab95-72119041b229",
   "metadata": {},
   "outputs": [],
   "source": [
    "files = {\n",
    "    'file': ('{}.jpg'.format(image['name']), open('images/{}.jpg'.format(post['name']), 'rb'), 'image/jpeg')\n",
    "}\n",
    "\n",
    "response_image = requests.post('http://localhost:8080/image', json=image)\n",
    "image = requests.post('http://localhost:8080/image', json=image).json()\n",
    "image_new = requests.post('http://localhost:8080/image/{}'.format(image['id']), files=files).json()"
   ]
  },
  {
   "cell_type": "code",
   "execution_count": 22,
   "id": "31fe60aa-9ead-466c-949f-7b6414e393a8",
   "metadata": {},
   "outputs": [
    {
     "data": {
      "text/plain": [
       "<Response [200]>"
      ]
     },
     "execution_count": 22,
     "metadata": {},
     "output_type": "execute_result"
    }
   ],
   "source": [
    "response_image"
   ]
  },
  {
   "cell_type": "code",
   "execution_count": 23,
   "id": "8de92cab-9d30-43b2-9440-1fb75f1fb37c",
   "metadata": {},
   "outputs": [
    {
     "data": {
      "text/plain": [
       "{'id': 4,\n",
       " 'name': '63c72f43-6600-4a90-b3d0-918838cf419b',\n",
       " 'extension': 'jpg',\n",
       " 'postId': None}"
      ]
     },
     "execution_count": 23,
     "metadata": {},
     "output_type": "execute_result"
    }
   ],
   "source": [
    "image_new"
   ]
  },
  {
   "cell_type": "code",
   "execution_count": 25,
   "id": "9a983eb9-b85d-488b-a768-e95891bbfbe0",
   "metadata": {},
   "outputs": [
    {
     "data": {
      "text/plain": [
       "<Response [200]>"
      ]
     },
     "execution_count": 25,
     "metadata": {},
     "output_type": "execute_result"
    }
   ],
   "source": [
    "requests.post('http://localhost:8080/post/{}/product'.format(post_new['id']), params={'productId': product_new['id']})"
   ]
  },
  {
   "cell_type": "code",
   "execution_count": 26,
   "id": "04311487-4008-4c61-8050-cafbc9ea20de",
   "metadata": {},
   "outputs": [
    {
     "data": {
      "text/plain": [
       "<Response [200]>"
      ]
     },
     "execution_count": 26,
     "metadata": {},
     "output_type": "execute_result"
    }
   ],
   "source": [
    "requests.post('http://localhost:8080/post/{}/image'.format(post_new['id']), params={'imageId': image_new['id']})"
   ]
  },
  {
   "cell_type": "code",
   "execution_count": null,
   "id": "0e61b37b-40ad-483c-bf1d-796f5f8972ec",
   "metadata": {},
   "outputs": [],
   "source": []
  }
 ],
 "metadata": {
  "kernelspec": {
   "display_name": "RecomenderSystem",
   "language": "python",
   "name": "recomendersystem"
  },
  "language_info": {
   "codemirror_mode": {
    "name": "ipython",
    "version": 3
   },
   "file_extension": ".py",
   "mimetype": "text/x-python",
   "name": "python",
   "nbconvert_exporter": "python",
   "pygments_lexer": "ipython3",
   "version": "3.12.4"
  }
 },
 "nbformat": 4,
 "nbformat_minor": 5
}
